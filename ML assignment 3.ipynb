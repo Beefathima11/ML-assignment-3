{
 "cells": [
  {
   "cell_type": "code",
   "execution_count": 1,
   "id": "1c388dca-9068-4cad-ad5d-ae2069784cab",
   "metadata": {},
   "outputs": [],
   "source": [
    "import pandas as pd\n",
    "import numpy as np\n",
    "import matplotlib.pyplot as plt\n",
    "import seaborn as sns\n",
    "from sklearn.datasets import fetch_california_housing\n",
    "from sklearn.model_selection import train_test_split\n",
    "from sklearn.preprocessing import StandardScaler\n",
    "from sklearn.linear_model import LinearRegression\n",
    "from sklearn.tree import DecisionTreeRegressor\n",
    "from sklearn.ensemble import RandomForestRegressor, GradientBoostingRegressor\n",
    "from sklearn.svm import SVR\n",
    "from sklearn.metrics import mean_squared_error, mean_absolute_error, r2_score\n"
   ]
  },
  {
   "cell_type": "code",
   "execution_count": 2,
   "id": "7ad8f53c-8e24-4a64-bac8-0e497d426025",
   "metadata": {},
   "outputs": [],
   "source": [
    "# 📌 Load California Housing dataset\n",
    "housing = fetch_california_housing()\n",
    "df = pd.DataFrame(housing.data, columns=housing.feature_names)\n",
    "df[\"Target\"] = housing.target  # Adding target variable"
   ]
  },
  {
   "cell_type": "code",
   "execution_count": 3,
   "id": "f9c9afde-40d4-423c-a112-90b436f3c54f",
   "metadata": {},
   "outputs": [
    {
     "name": "stdout",
     "output_type": "stream",
     "text": [
      "<class 'pandas.core.frame.DataFrame'>\n",
      "RangeIndex: 20640 entries, 0 to 20639\n",
      "Data columns (total 9 columns):\n",
      " #   Column      Non-Null Count  Dtype  \n",
      "---  ------      --------------  -----  \n",
      " 0   MedInc      20640 non-null  float64\n",
      " 1   HouseAge    20640 non-null  float64\n",
      " 2   AveRooms    20640 non-null  float64\n",
      " 3   AveBedrms   20640 non-null  float64\n",
      " 4   Population  20640 non-null  float64\n",
      " 5   AveOccup    20640 non-null  float64\n",
      " 6   Latitude    20640 non-null  float64\n",
      " 7   Longitude   20640 non-null  float64\n",
      " 8   Target      20640 non-null  float64\n",
      "dtypes: float64(9)\n",
      "memory usage: 1.4 MB\n",
      "None\n"
     ]
    }
   ],
   "source": [
    "# 🔎 Data exploration\n",
    "print(df.info())  # Check for missing values"
   ]
  },
  {
   "cell_type": "code",
   "execution_count": 4,
   "id": "0456d0cd-121f-4565-b910-dbf8d3f48a05",
   "metadata": {},
   "outputs": [
    {
     "name": "stdout",
     "output_type": "stream",
     "text": [
      "             MedInc      HouseAge      AveRooms     AveBedrms    Population  \\\n",
      "count  20640.000000  20640.000000  20640.000000  20640.000000  20640.000000   \n",
      "mean       3.870671     28.639486      5.429000      1.096675   1425.476744   \n",
      "std        1.899822     12.585558      2.474173      0.473911   1132.462122   \n",
      "min        0.499900      1.000000      0.846154      0.333333      3.000000   \n",
      "25%        2.563400     18.000000      4.440716      1.006079    787.000000   \n",
      "50%        3.534800     29.000000      5.229129      1.048780   1166.000000   \n",
      "75%        4.743250     37.000000      6.052381      1.099526   1725.000000   \n",
      "max       15.000100     52.000000    141.909091     34.066667  35682.000000   \n",
      "\n",
      "           AveOccup      Latitude     Longitude        Target  \n",
      "count  20640.000000  20640.000000  20640.000000  20640.000000  \n",
      "mean       3.070655     35.631861   -119.569704      2.068558  \n",
      "std       10.386050      2.135952      2.003532      1.153956  \n",
      "min        0.692308     32.540000   -124.350000      0.149990  \n",
      "25%        2.429741     33.930000   -121.800000      1.196000  \n",
      "50%        2.818116     34.260000   -118.490000      1.797000  \n",
      "75%        3.282261     37.710000   -118.010000      2.647250  \n",
      "max     1243.333333     41.950000   -114.310000      5.000010  \n"
     ]
    }
   ],
   "source": [
    "print(df.describe())  # Summary statistics"
   ]
  },
  {
   "cell_type": "code",
   "execution_count": 5,
   "id": "d9eabcf1-3f55-402a-8b52-b1d361e17529",
   "metadata": {},
   "outputs": [],
   "source": [
    "# 📌 Data Preprocessing: Feature Scaling\n",
    "scaler = StandardScaler()\n",
    "scaled_features = scaler.fit_transform(df.drop(columns=[\"Target\"]))\n",
    "X = pd.DataFrame(scaled_features, columns=housing.feature_names)\n",
    "y = df[\"Target\"]"
   ]
  },
  {
   "cell_type": "code",
   "execution_count": 6,
   "id": "955b2bb9-241a-45bb-bc30-c6dd215a7c94",
   "metadata": {},
   "outputs": [],
   "source": [
    "# 📌 Split data into train & test sets\n",
    "X_train, X_test, y_train, y_test = train_test_split(X, y, test_size=0.2, random_state=42)"
   ]
  },
  {
   "cell_type": "code",
   "execution_count": 10,
   "id": "1376b419-30c5-48d9-87e7-7fdb74671a8a",
   "metadata": {},
   "outputs": [],
   "source": [
    "# 📌 Define models again\n",
    "models = {\n",
    "    \"Linear Regression\": LinearRegression(),\n",
    "    \"Decision Tree Regressor\": DecisionTreeRegressor(),\n",
    "    \"Random Forest Regressor\": RandomForestRegressor(n_estimators=100),\n",
    "    \"Gradient Boosting Regressor\": GradientBoostingRegressor(),\n",
    "    \"Support Vector Regressor (SVR)\": SVR()  \n",
    "}\n"
   ]
  },
  {
   "cell_type": "code",
   "execution_count": 11,
   "id": "00f7e924-3720-4a47-9966-771063951c03",
   "metadata": {},
   "outputs": [],
   "source": [
    "# 📌 Train models & evaluate performance\n",
    "results = []\n",
    "for name, model in models.items():\n",
    "    model.fit(X_train, y_train)  # Train model\n",
    "    y_pred = model.predict(X_test)  # Predictions"
   ]
  },
  {
   "cell_type": "code",
   "execution_count": null,
   "id": "221f4a66-b7aa-4ad3-9da9-6dca101106fc",
   "metadata": {},
   "outputs": [],
   "source": [
    "# 📊 Compute evaluation metrics\n",
    "    mse = mean_squared_error(y_test, y_pred)\n",
    "    mae = mean_absolute_error(y_test, y_pred)\n",
    "    r2 = r2_score(y_test, y_pred)\n",
    "    \n",
    "    results.append({\"Model\": name, \"MSE\": mse, \"MAE\": mae, \"R²\": r2})\n",
    "    print(f\"📌 {name}: MSE={mse:.3f}, MAE={mae:.3f}, R²={r2:.3f}\")"
   ]
  },
  {
   "cell_type": "code",
   "execution_count": null,
   "id": "c97a0c4d-867c-4552-9b6f-750e8bc2845c",
   "metadata": {},
   "outputs": [],
   "source": [
    "# 📊 Convert results into a DataFrame\n",
    "results_df = pd.DataFrame(results).sort_values(by=\"MSE\")\n",
    "print(\"\\n🔹 Model Performance Comparison:\")\n",
    "print(results_df)"
   ]
  },
  {
   "cell_type": "code",
   "execution_count": 16,
   "id": "02fc5438-bba0-499c-ae45-8676b6b513ff",
   "metadata": {},
   "outputs": [],
   "source": [
    "from sklearn.metrics import mean_squared_error, mean_absolute_error, r2_score"
   ]
  },
  {
   "cell_type": "code",
   "execution_count": 17,
   "id": "88debc2a-b9a3-424a-b7e6-f4cda11d3d7b",
   "metadata": {},
   "outputs": [],
   "source": [
    "# Assuming `X_train, X_test, y_train, y_test` exist\n",
    "models = {\n",
    "    \"Linear Regression\": LinearRegression(),\n",
    "    \"Decision Tree Regressor\": DecisionTreeRegressor(),\n",
    "    \"Random Forest Regressor\": RandomForestRegressor(n_estimators=100),\n",
    "    \"Gradient Boosting Regressor\": GradientBoostingRegressor(),\n",
    "    \"Support Vector Regressor (SVR)\": SVR()\n",
    "}"
   ]
  },
  {
   "cell_type": "code",
   "execution_count": 18,
   "id": "ab284a6c-2333-42a0-8e07-b1b4cbd46bd1",
   "metadata": {},
   "outputs": [],
   "source": [
    "results = []\n",
    "\n",
    "for name, model in models.items():\n",
    "    model.fit(X_train, y_train)  # Train model\n",
    "    y_pred = model.predict(X_test)  # Predict\n",
    "\n",
    "    mse = mean_squared_error(y_test, y_pred)\n",
    "    mae = mean_absolute_error(y_test, y_pred)\n",
    "    r2 = r2_score(y_test, y_pred)\n",
    "\n",
    "    results.append([name, mse, mae, r2])"
   ]
  },
  {
   "cell_type": "code",
   "execution_count": 19,
   "id": "b236d389-a269-4289-8d1a-34c5143520ee",
   "metadata": {},
   "outputs": [
    {
     "name": "stdout",
     "output_type": "stream",
     "text": [
      "                            Model       MSE       MAE        R²\n",
      "0               Linear Regression  0.555892  0.533200  0.575788\n",
      "1         Decision Tree Regressor  0.487938  0.453472  0.627645\n",
      "2         Random Forest Regressor  0.254958  0.327372  0.805436\n",
      "3     Gradient Boosting Regressor  0.294080  0.371723  0.775581\n",
      "4  Support Vector Regressor (SVR)  0.355198  0.397763  0.728941\n"
     ]
    }
   ],
   "source": [
    "# Convert results to DataFrame\n",
    "import pandas as pd\n",
    "results_df = pd.DataFrame(results, columns=[\"Model\", \"MSE\", \"MAE\", \"R²\"])\n",
    "print(results_df)"
   ]
  },
  {
   "cell_type": "code",
   "execution_count": 20,
   "id": "d9b0c900-2a43-415c-b206-f44c880dc950",
   "metadata": {},
   "outputs": [
    {
     "name": "stderr",
     "output_type": "stream",
     "text": [
      "C:\\Users\\beefa\\AppData\\Local\\Temp\\ipykernel_15028\\3040959536.py:5: FutureWarning: \n",
      "\n",
      "Passing `palette` without assigning `hue` is deprecated and will be removed in v0.14.0. Assign the `x` variable to `hue` and set `legend=False` for the same effect.\n",
      "\n",
      "  sns.barplot(x=\"Model\", y=\"MSE\", data=results_df, palette=\"viridis\")\n"
     ]
    },
    {
     "data": {
      "image/png": "[encoded data removed]",
      "text/plain": [
       "<Figure size 1000x500 with 1 Axes>"
      ]
     },
     "metadata": {},
     "output_type": "display_data"
    }
   ],
   "source": [
    "import seaborn as sns\n",
    "import matplotlib.pyplot as plt\n",
    "\n",
    "plt.figure(figsize=(10, 5))\n",
    "sns.barplot(x=\"Model\", y=\"MSE\", data=results_df, palette=\"viridis\")\n",
    "plt.xticks(rotation=45)\n",
    "plt.title(\"Mean Squared Error (MSE) Comparison\")\n",
    "plt.show()\n"
   ]
  }
 ],
 "metadata": {
  "kernelspec": {
   "display_name": "Python 3 (ipykernel)",
   "language": "python",
   "name": "python3"
  },
  "language_info": {
   "codemirror_mode": {
    "name": "ipython",
    "version": 3
   },
   "file_extension": ".py",
   "mimetype": "text/x-python",
   "name": "python",
   "nbconvert_exporter": "python",
   "pygments_lexer": "ipython3",
   "version": "3.13.2"
  }
 },
 "nbformat": 4,
 "nbformat_minor": 5
}
